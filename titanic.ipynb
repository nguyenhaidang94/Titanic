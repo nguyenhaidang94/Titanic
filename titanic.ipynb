{
  "nbformat": 4,
  "nbformat_minor": 5,
  "metadata": {
    "kernelspec": {
      "display_name": "Python 3",
      "language": "python",
      "name": "python3"
    },
    "language_info": {
      "codemirror_mode": {
        "name": "ipython",
        "version": 3
      },
      "file_extension": ".py",
      "mimetype": "text/x-python",
      "name": "python",
      "nbconvert_exporter": "python",
      "pygments_lexer": "ipython3",
      "version": "3.7.10"
    },
    "papermill": {
      "default_parameters": {},
      "duration": 285.791481,
      "end_time": "2021-09-05T14:24:47.848119",
      "environment_variables": {},
      "exception": null,
      "input_path": "__notebook__.ipynb",
      "output_path": "__notebook__.ipynb",
      "parameters": {},
      "start_time": "2021-09-05T14:20:02.056638",
      "version": "2.3.3"
    },
    "colab": {
      "name": "titanic.ipynb",
      "provenance": [],
      "include_colab_link": true
    }
  },
  "cells": [
    {
      "cell_type": "markdown",
      "metadata": {
        "id": "view-in-github",
        "colab_type": "text"
      },
      "source": [
        "<a href=\"https://colab.research.google.com/github/nguyenhaidang94/titanic/blob/main/titanic.ipynb\" target=\"_parent\"><img src=\"https://colab.research.google.com/assets/colab-badge.svg\" alt=\"Open In Colab\"/></a>"
      ]
    },
    {
      "cell_type": "code",
      "metadata": {
        "execution": {
          "iopub.execute_input": "2021-09-05T14:20:09.221063Z",
          "iopub.status.busy": "2021-09-05T14:20:09.219503Z",
          "iopub.status.idle": "2021-09-05T14:20:10.154941Z",
          "shell.execute_reply": "2021-09-05T14:20:10.154359Z",
          "shell.execute_reply.started": "2021-09-05T14:07:41.513440Z"
        },
        "papermill": {
          "duration": 0.954433,
          "end_time": "2021-09-05T14:20:10.155094",
          "exception": false,
          "start_time": "2021-09-05T14:20:09.200661",
          "status": "completed"
        },
        "tags": [],
        "id": "ebf92f65"
      },
      "source": [
        "import pandas as pd\n",
        "import numpy as np\n",
        "from matplotlib import pyplot as plt\n",
        "import seaborn as sns\n",
        "sns.set_theme()"
      ],
      "id": "ebf92f65",
      "execution_count": null,
      "outputs": []
    },
    {
      "cell_type": "markdown",
      "metadata": {
        "papermill": {
          "duration": 0.013788,
          "end_time": "2021-09-05T14:20:10.183486",
          "exception": false,
          "start_time": "2021-09-05T14:20:10.169698",
          "status": "completed"
        },
        "tags": [],
        "id": "42d1d157"
      },
      "source": [
        "# Data Exploration"
      ],
      "id": "42d1d157"
    },
    {
      "cell_type": "code",
      "metadata": {
        "execution": {
          "iopub.execute_input": "2021-09-05T14:20:10.216303Z",
          "iopub.status.busy": "2021-09-05T14:20:10.215460Z",
          "iopub.status.idle": "2021-09-05T14:20:10.245051Z",
          "shell.execute_reply": "2021-09-05T14:20:10.245494Z",
          "shell.execute_reply.started": "2021-09-05T14:07:43.512430Z"
        },
        "papermill": {
          "duration": 0.048225,
          "end_time": "2021-09-05T14:20:10.245622",
          "exception": false,
          "start_time": "2021-09-05T14:20:10.197397",
          "status": "completed"
        },
        "tags": [],
        "id": "f6fbb5b7",
        "outputId": "875098a6-79ff-4c74-9249-018a9b57606c"
      },
      "source": [
        "train = pd.read_csv(\"/kaggle/input/titanic/train.csv\")\n",
        "test = pd.read_csv(\"/kaggle/input/titanic/test.csv\")\n",
        "print(f\"Number of samples in train: {train.shape[0]}, number of features: {train.shape[1]}\")\n",
        "print(f\"Number of samples in test: {test.shape[0]}, number of features: {test.shape[1]}\")"
      ],
      "id": "f6fbb5b7",
      "execution_count": null,
      "outputs": [
        {
          "name": "stdout",
          "output_type": "stream",
          "text": [
            "Number of samples in train: 891, number of features: 12\n",
            "Number of samples in test: 418, number of features: 11\n"
          ]
        }
      ]
    },
    {
      "cell_type": "code",
      "metadata": {
        "execution": {
          "iopub.execute_input": "2021-09-05T14:20:10.284353Z",
          "iopub.status.busy": "2021-09-05T14:20:10.283736Z",
          "iopub.status.idle": "2021-09-05T14:20:10.306829Z",
          "shell.execute_reply": "2021-09-05T14:20:10.306362Z",
          "shell.execute_reply.started": "2021-09-05T13:51:00.608424Z"
        },
        "papermill": {
          "duration": 0.046734,
          "end_time": "2021-09-05T14:20:10.306940",
          "exception": false,
          "start_time": "2021-09-05T14:20:10.260206",
          "status": "completed"
        },
        "tags": [],
        "id": "9c6796fe",
        "outputId": "2d95f689-27ff-488b-87d9-40db85f507aa"
      },
      "source": [
        "train.head()"
      ],
      "id": "9c6796fe",
      "execution_count": null,
      "outputs": [
        {
          "data": {
            "text/html": [
              "<div>\n",
              "<style scoped>\n",
              "    .dataframe tbody tr th:only-of-type {\n",
              "        vertical-align: middle;\n",
              "    }\n",
              "\n",
              "    .dataframe tbody tr th {\n",
              "        vertical-align: top;\n",
              "    }\n",
              "\n",
              "    .dataframe thead th {\n",
              "        text-align: right;\n",
              "    }\n",
              "</style>\n",
              "<table border=\"1\" class=\"dataframe\">\n",
              "  <thead>\n",
              "    <tr style=\"text-align: right;\">\n",
              "      <th></th>\n",
              "      <th>PassengerId</th>\n",
              "      <th>Survived</th>\n",
              "      <th>Pclass</th>\n",
              "      <th>Name</th>\n",
              "      <th>Sex</th>\n",
              "      <th>Age</th>\n",
              "      <th>SibSp</th>\n",
              "      <th>Parch</th>\n",
              "      <th>Ticket</th>\n",
              "      <th>Fare</th>\n",
              "      <th>Cabin</th>\n",
              "      <th>Embarked</th>\n",
              "    </tr>\n",
              "  </thead>\n",
              "  <tbody>\n",
              "    <tr>\n",
              "      <th>0</th>\n",
              "      <td>1</td>\n",
              "      <td>0</td>\n",
              "      <td>3</td>\n",
              "      <td>Braund, Mr. Owen Harris</td>\n",
              "      <td>male</td>\n",
              "      <td>22.0</td>\n",
              "      <td>1</td>\n",
              "      <td>0</td>\n",
              "      <td>A/5 21171</td>\n",
              "      <td>7.2500</td>\n",
              "      <td>NaN</td>\n",
              "      <td>S</td>\n",
              "    </tr>\n",
              "    <tr>\n",
              "      <th>1</th>\n",
              "      <td>2</td>\n",
              "      <td>1</td>\n",
              "      <td>1</td>\n",
              "      <td>Cumings, Mrs. John Bradley (Florence Briggs Th...</td>\n",
              "      <td>female</td>\n",
              "      <td>38.0</td>\n",
              "      <td>1</td>\n",
              "      <td>0</td>\n",
              "      <td>PC 17599</td>\n",
              "      <td>71.2833</td>\n",
              "      <td>C85</td>\n",
              "      <td>C</td>\n",
              "    </tr>\n",
              "    <tr>\n",
              "      <th>2</th>\n",
              "      <td>3</td>\n",
              "      <td>1</td>\n",
              "      <td>3</td>\n",
              "      <td>Heikkinen, Miss. Laina</td>\n",
              "      <td>female</td>\n",
              "      <td>26.0</td>\n",
              "      <td>0</td>\n",
              "      <td>0</td>\n",
              "      <td>STON/O2. 3101282</td>\n",
              "      <td>7.9250</td>\n",
              "      <td>NaN</td>\n",
              "      <td>S</td>\n",
              "    </tr>\n",
              "    <tr>\n",
              "      <th>3</th>\n",
              "      <td>4</td>\n",
              "      <td>1</td>\n",
              "      <td>1</td>\n",
              "      <td>Futrelle, Mrs. Jacques Heath (Lily May Peel)</td>\n",
              "      <td>female</td>\n",
              "      <td>35.0</td>\n",
              "      <td>1</td>\n",
              "      <td>0</td>\n",
              "      <td>113803</td>\n",
              "      <td>53.1000</td>\n",
              "      <td>C123</td>\n",
              "      <td>S</td>\n",
              "    </tr>\n",
              "    <tr>\n",
              "      <th>4</th>\n",
              "      <td>5</td>\n",
              "      <td>0</td>\n",
              "      <td>3</td>\n",
              "      <td>Allen, Mr. William Henry</td>\n",
              "      <td>male</td>\n",
              "      <td>35.0</td>\n",
              "      <td>0</td>\n",
              "      <td>0</td>\n",
              "      <td>373450</td>\n",
              "      <td>8.0500</td>\n",
              "      <td>NaN</td>\n",
              "      <td>S</td>\n",
              "    </tr>\n",
              "  </tbody>\n",
              "</table>\n",
              "</div>"
            ],
            "text/plain": [
              "   PassengerId  Survived  Pclass  \\\n",
              "0            1         0       3   \n",
              "1            2         1       1   \n",
              "2            3         1       3   \n",
              "3            4         1       1   \n",
              "4            5         0       3   \n",
              "\n",
              "                                                Name     Sex   Age  SibSp  \\\n",
              "0                            Braund, Mr. Owen Harris    male  22.0      1   \n",
              "1  Cumings, Mrs. John Bradley (Florence Briggs Th...  female  38.0      1   \n",
              "2                             Heikkinen, Miss. Laina  female  26.0      0   \n",
              "3       Futrelle, Mrs. Jacques Heath (Lily May Peel)  female  35.0      1   \n",
              "4                           Allen, Mr. William Henry    male  35.0      0   \n",
              "\n",
              "   Parch            Ticket     Fare Cabin Embarked  \n",
              "0      0         A/5 21171   7.2500   NaN        S  \n",
              "1      0          PC 17599  71.2833   C85        C  \n",
              "2      0  STON/O2. 3101282   7.9250   NaN        S  \n",
              "3      0            113803  53.1000  C123        S  \n",
              "4      0            373450   8.0500   NaN        S  "
            ]
          },
          "execution_count": 3,
          "metadata": {},
          "output_type": "execute_result"
        }
      ]
    },
    {
      "cell_type": "code",
      "metadata": {
        "execution": {
          "iopub.execute_input": "2021-09-05T14:20:10.341471Z",
          "iopub.status.busy": "2021-09-05T14:20:10.340501Z",
          "iopub.status.idle": "2021-09-05T14:20:10.373157Z",
          "shell.execute_reply": "2021-09-05T14:20:10.372711Z",
          "shell.execute_reply.started": "2021-09-05T13:51:05.025639Z"
        },
        "papermill": {
          "duration": 0.050567,
          "end_time": "2021-09-05T14:20:10.373286",
          "exception": false,
          "start_time": "2021-09-05T14:20:10.322719",
          "status": "completed"
        },
        "tags": [],
        "id": "8d22cc58",
        "outputId": "45f7f6f7-8e5d-4403-c8ee-012785f2dbee"
      },
      "source": [
        "train.describe()"
      ],
      "id": "8d22cc58",
      "execution_count": null,
      "outputs": [
        {
          "data": {
            "text/html": [
              "<div>\n",
              "<style scoped>\n",
              "    .dataframe tbody tr th:only-of-type {\n",
              "        vertical-align: middle;\n",
              "    }\n",
              "\n",
              "    .dataframe tbody tr th {\n",
              "        vertical-align: top;\n",
              "    }\n",
              "\n",
              "    .dataframe thead th {\n",
              "        text-align: right;\n",
              "    }\n",
              "</style>\n",
              "<table border=\"1\" class=\"dataframe\">\n",
              "  <thead>\n",
              "    <tr style=\"text-align: right;\">\n",
              "      <th></th>\n",
              "      <th>PassengerId</th>\n",
              "      <th>Survived</th>\n",
              "      <th>Pclass</th>\n",
              "      <th>Age</th>\n",
              "      <th>SibSp</th>\n",
              "      <th>Parch</th>\n",
              "      <th>Fare</th>\n",
              "    </tr>\n",
              "  </thead>\n",
              "  <tbody>\n",
              "    <tr>\n",
              "      <th>count</th>\n",
              "      <td>891.000000</td>\n",
              "      <td>891.000000</td>\n",
              "      <td>891.000000</td>\n",
              "      <td>714.000000</td>\n",
              "      <td>891.000000</td>\n",
              "      <td>891.000000</td>\n",
              "      <td>891.000000</td>\n",
              "    </tr>\n",
              "    <tr>\n",
              "      <th>mean</th>\n",
              "      <td>446.000000</td>\n",
              "      <td>0.383838</td>\n",
              "      <td>2.308642</td>\n",
              "      <td>29.699118</td>\n",
              "      <td>0.523008</td>\n",
              "      <td>0.381594</td>\n",
              "      <td>32.204208</td>\n",
              "    </tr>\n",
              "    <tr>\n",
              "      <th>std</th>\n",
              "      <td>257.353842</td>\n",
              "      <td>0.486592</td>\n",
              "      <td>0.836071</td>\n",
              "      <td>14.526497</td>\n",
              "      <td>1.102743</td>\n",
              "      <td>0.806057</td>\n",
              "      <td>49.693429</td>\n",
              "    </tr>\n",
              "    <tr>\n",
              "      <th>min</th>\n",
              "      <td>1.000000</td>\n",
              "      <td>0.000000</td>\n",
              "      <td>1.000000</td>\n",
              "      <td>0.420000</td>\n",
              "      <td>0.000000</td>\n",
              "      <td>0.000000</td>\n",
              "      <td>0.000000</td>\n",
              "    </tr>\n",
              "    <tr>\n",
              "      <th>25%</th>\n",
              "      <td>223.500000</td>\n",
              "      <td>0.000000</td>\n",
              "      <td>2.000000</td>\n",
              "      <td>20.125000</td>\n",
              "      <td>0.000000</td>\n",
              "      <td>0.000000</td>\n",
              "      <td>7.910400</td>\n",
              "    </tr>\n",
              "    <tr>\n",
              "      <th>50%</th>\n",
              "      <td>446.000000</td>\n",
              "      <td>0.000000</td>\n",
              "      <td>3.000000</td>\n",
              "      <td>28.000000</td>\n",
              "      <td>0.000000</td>\n",
              "      <td>0.000000</td>\n",
              "      <td>14.454200</td>\n",
              "    </tr>\n",
              "    <tr>\n",
              "      <th>75%</th>\n",
              "      <td>668.500000</td>\n",
              "      <td>1.000000</td>\n",
              "      <td>3.000000</td>\n",
              "      <td>38.000000</td>\n",
              "      <td>1.000000</td>\n",
              "      <td>0.000000</td>\n",
              "      <td>31.000000</td>\n",
              "    </tr>\n",
              "    <tr>\n",
              "      <th>max</th>\n",
              "      <td>891.000000</td>\n",
              "      <td>1.000000</td>\n",
              "      <td>3.000000</td>\n",
              "      <td>80.000000</td>\n",
              "      <td>8.000000</td>\n",
              "      <td>6.000000</td>\n",
              "      <td>512.329200</td>\n",
              "    </tr>\n",
              "  </tbody>\n",
              "</table>\n",
              "</div>"
            ],
            "text/plain": [
              "       PassengerId    Survived      Pclass         Age       SibSp  \\\n",
              "count   891.000000  891.000000  891.000000  714.000000  891.000000   \n",
              "mean    446.000000    0.383838    2.308642   29.699118    0.523008   \n",
              "std     257.353842    0.486592    0.836071   14.526497    1.102743   \n",
              "min       1.000000    0.000000    1.000000    0.420000    0.000000   \n",
              "25%     223.500000    0.000000    2.000000   20.125000    0.000000   \n",
              "50%     446.000000    0.000000    3.000000   28.000000    0.000000   \n",
              "75%     668.500000    1.000000    3.000000   38.000000    1.000000   \n",
              "max     891.000000    1.000000    3.000000   80.000000    8.000000   \n",
              "\n",
              "            Parch        Fare  \n",
              "count  891.000000  891.000000  \n",
              "mean     0.381594   32.204208  \n",
              "std      0.806057   49.693429  \n",
              "min      0.000000    0.000000  \n",
              "25%      0.000000    7.910400  \n",
              "50%      0.000000   14.454200  \n",
              "75%      0.000000   31.000000  \n",
              "max      6.000000  512.329200  "
            ]
          },
          "execution_count": 4,
          "metadata": {},
          "output_type": "execute_result"
        }
      ]
    },
    {
      "cell_type": "code",
      "metadata": {
        "execution": {
          "iopub.execute_input": "2021-09-05T14:20:10.416740Z",
          "iopub.status.busy": "2021-09-05T14:20:10.415888Z",
          "iopub.status.idle": "2021-09-05T14:20:10.435226Z",
          "shell.execute_reply": "2021-09-05T14:20:10.434755Z",
          "shell.execute_reply.started": "2021-09-05T13:51:09.707716Z"
        },
        "papermill": {
          "duration": 0.045366,
          "end_time": "2021-09-05T14:20:10.435351",
          "exception": false,
          "start_time": "2021-09-05T14:20:10.389985",
          "status": "completed"
        },
        "tags": [],
        "id": "f77d1519",
        "outputId": "db4fe1b0-1496-40cd-8134-8b4cfeb30719"
      },
      "source": [
        "test.describe()"
      ],
      "id": "f77d1519",
      "execution_count": null,
      "outputs": [
        {
          "data": {
            "text/html": [
              "<div>\n",
              "<style scoped>\n",
              "    .dataframe tbody tr th:only-of-type {\n",
              "        vertical-align: middle;\n",
              "    }\n",
              "\n",
              "    .dataframe tbody tr th {\n",
              "        vertical-align: top;\n",
              "    }\n",
              "\n",
              "    .dataframe thead th {\n",
              "        text-align: right;\n",
              "    }\n",
              "</style>\n",
              "<table border=\"1\" class=\"dataframe\">\n",
              "  <thead>\n",
              "    <tr style=\"text-align: right;\">\n",
              "      <th></th>\n",
              "      <th>PassengerId</th>\n",
              "      <th>Pclass</th>\n",
              "      <th>Age</th>\n",
              "      <th>SibSp</th>\n",
              "      <th>Parch</th>\n",
              "      <th>Fare</th>\n",
              "    </tr>\n",
              "  </thead>\n",
              "  <tbody>\n",
              "    <tr>\n",
              "      <th>count</th>\n",
              "      <td>418.000000</td>\n",
              "      <td>418.000000</td>\n",
              "      <td>332.000000</td>\n",
              "      <td>418.000000</td>\n",
              "      <td>418.000000</td>\n",
              "      <td>417.000000</td>\n",
              "    </tr>\n",
              "    <tr>\n",
              "      <th>mean</th>\n",
              "      <td>1100.500000</td>\n",
              "      <td>2.265550</td>\n",
              "      <td>30.272590</td>\n",
              "      <td>0.447368</td>\n",
              "      <td>0.392344</td>\n",
              "      <td>35.627188</td>\n",
              "    </tr>\n",
              "    <tr>\n",
              "      <th>std</th>\n",
              "      <td>120.810458</td>\n",
              "      <td>0.841838</td>\n",
              "      <td>14.181209</td>\n",
              "      <td>0.896760</td>\n",
              "      <td>0.981429</td>\n",
              "      <td>55.907576</td>\n",
              "    </tr>\n",
              "    <tr>\n",
              "      <th>min</th>\n",
              "      <td>892.000000</td>\n",
              "      <td>1.000000</td>\n",
              "      <td>0.170000</td>\n",
              "      <td>0.000000</td>\n",
              "      <td>0.000000</td>\n",
              "      <td>0.000000</td>\n",
              "    </tr>\n",
              "    <tr>\n",
              "      <th>25%</th>\n",
              "      <td>996.250000</td>\n",
              "      <td>1.000000</td>\n",
              "      <td>21.000000</td>\n",
              "      <td>0.000000</td>\n",
              "      <td>0.000000</td>\n",
              "      <td>7.895800</td>\n",
              "    </tr>\n",
              "    <tr>\n",
              "      <th>50%</th>\n",
              "      <td>1100.500000</td>\n",
              "      <td>3.000000</td>\n",
              "      <td>27.000000</td>\n",
              "      <td>0.000000</td>\n",
              "      <td>0.000000</td>\n",
              "      <td>14.454200</td>\n",
              "    </tr>\n",
              "    <tr>\n",
              "      <th>75%</th>\n",
              "      <td>1204.750000</td>\n",
              "      <td>3.000000</td>\n",
              "      <td>39.000000</td>\n",
              "      <td>1.000000</td>\n",
              "      <td>0.000000</td>\n",
              "      <td>31.500000</td>\n",
              "    </tr>\n",
              "    <tr>\n",
              "      <th>max</th>\n",
              "      <td>1309.000000</td>\n",
              "      <td>3.000000</td>\n",
              "      <td>76.000000</td>\n",
              "      <td>8.000000</td>\n",
              "      <td>9.000000</td>\n",
              "      <td>512.329200</td>\n",
              "    </tr>\n",
              "  </tbody>\n",
              "</table>\n",
              "</div>"
            ],
            "text/plain": [
              "       PassengerId      Pclass         Age       SibSp       Parch        Fare\n",
              "count   418.000000  418.000000  332.000000  418.000000  418.000000  417.000000\n",
              "mean   1100.500000    2.265550   30.272590    0.447368    0.392344   35.627188\n",
              "std     120.810458    0.841838   14.181209    0.896760    0.981429   55.907576\n",
              "min     892.000000    1.000000    0.170000    0.000000    0.000000    0.000000\n",
              "25%     996.250000    1.000000   21.000000    0.000000    0.000000    7.895800\n",
              "50%    1100.500000    3.000000   27.000000    0.000000    0.000000   14.454200\n",
              "75%    1204.750000    3.000000   39.000000    1.000000    0.000000   31.500000\n",
              "max    1309.000000    3.000000   76.000000    8.000000    9.000000  512.329200"
            ]
          },
          "execution_count": 5,
          "metadata": {},
          "output_type": "execute_result"
        }
      ]
    },
    {
      "cell_type": "code",
      "metadata": {
        "execution": {
          "iopub.execute_input": "2021-09-05T14:20:10.474377Z",
          "iopub.status.busy": "2021-09-05T14:20:10.473568Z",
          "iopub.status.idle": "2021-09-05T14:20:12.628971Z",
          "shell.execute_reply": "2021-09-05T14:20:12.629400Z",
          "shell.execute_reply.started": "2021-09-05T13:51:13.764190Z"
        },
        "papermill": {
          "duration": 2.176021,
          "end_time": "2021-09-05T14:20:12.629546",
          "exception": false,
          "start_time": "2021-09-05T14:20:10.453525",
          "status": "completed"
        },
        "tags": [],
        "id": "e17286ba",
        "outputId": "23f167bc-4552-4cff-b334-6b08c919dd9d"
      },
      "source": [
        "plot_features = [\"Survived\", \"Pclass\", \"Sex\", \"Age\", \"SibSp\", \"Parch\", \"Fare\"]\n",
        "fig, axes = plt.subplots(2, 4, figsize=(20, 11))\n",
        "axes = np.ravel(axes)\n",
        "for i in range(len(plot_features)):\n",
        "    sns.histplot(data=train, ax=axes[i], x=plot_features[i])\n",
        "    axes[i].set_title(f\"Histogram of {plot_features[i]}\")"
      ],
      "id": "e17286ba",
      "execution_count": null,
      "outputs": [
        {
          "data": {
            "image/png": "[encoded data removed]",
            "text/plain": [
              "<Figure size 1440x792 with 8 Axes>"
            ]
          },
          "metadata": {},
          "output_type": "display_data"
        }
      ]
    },
    {
      "cell_type": "markdown",
      "metadata": {
        "papermill": {
          "duration": 0.017241,
          "end_time": "2021-09-05T14:20:12.670002",
          "exception": false,
          "start_time": "2021-09-05T14:20:12.652761",
          "status": "completed"
        },
        "tags": [],
        "id": "d03a2ad6"
      },
      "source": [
        "# Pre-processing"
      ],
      "id": "d03a2ad6"
    },
    {
      "cell_type": "code",
      "metadata": {
        "execution": {
          "iopub.execute_input": "2021-09-05T14:20:12.717014Z",
          "iopub.status.busy": "2021-09-05T14:20:12.716207Z",
          "iopub.status.idle": "2021-09-05T14:20:12.721483Z",
          "shell.execute_reply": "2021-09-05T14:20:12.720963Z",
          "shell.execute_reply.started": "2021-09-05T14:07:49.761673Z"
        },
        "papermill": {
          "duration": 0.034304,
          "end_time": "2021-09-05T14:20:12.721587",
          "exception": false,
          "start_time": "2021-09-05T14:20:12.687283",
          "status": "completed"
        },
        "tags": [],
        "id": "a5c70274",
        "outputId": "285be546-499c-49cc-d04e-ce4712db7029"
      },
      "source": [
        "print(\"Missing values by features\")\n",
        "print(\"Training set:\")\n",
        "for feature in train.columns:\n",
        "    print(f\"{feature}: {train[feature].isna().sum()}\")\n",
        "print(\"\\nTest set:\")\n",
        "for feature in test.columns:\n",
        "    print(f\"{feature}: {test[feature].isna().sum()}\")"
      ],
      "id": "a5c70274",
      "execution_count": null,
      "outputs": [
        {
          "name": "stdout",
          "output_type": "stream",
          "text": [
            "Missing values by features\n",
            "Training set:\n",
            "PassengerId: 0\n",
            "Survived: 0\n",
            "Pclass: 0\n",
            "Name: 0\n",
            "Sex: 0\n",
            "Age: 177\n",
            "SibSp: 0\n",
            "Parch: 0\n",
            "Ticket: 0\n",
            "Fare: 0\n",
            "Cabin: 687\n",
            "Embarked: 2\n",
            "\n",
            "Test set:\n",
            "PassengerId: 0\n",
            "Pclass: 0\n",
            "Name: 0\n",
            "Sex: 0\n",
            "Age: 86\n",
            "SibSp: 0\n",
            "Parch: 0\n",
            "Ticket: 0\n",
            "Fare: 1\n",
            "Cabin: 327\n",
            "Embarked: 0\n"
          ]
        }
      ]
    },
    {
      "cell_type": "code",
      "metadata": {
        "execution": {
          "iopub.execute_input": "2021-09-05T14:20:12.763577Z",
          "iopub.status.busy": "2021-09-05T14:20:12.762786Z",
          "iopub.status.idle": "2021-09-05T14:20:12.767883Z",
          "shell.execute_reply": "2021-09-05T14:20:12.768477Z",
          "shell.execute_reply.started": "2021-09-05T13:51:23.919576Z"
        },
        "papermill": {
          "duration": 0.029669,
          "end_time": "2021-09-05T14:20:12.768634",
          "exception": false,
          "start_time": "2021-09-05T14:20:12.738965",
          "status": "completed"
        },
        "tags": [],
        "id": "069f497a",
        "outputId": "61843a82-1e02-4d68-9f43-6320720e9f4e"
      },
      "source": [
        "categorical_features = [\"PassengerId\", \"Pclass\", \"Name\", \"Sex\", \"Ticket\", \"Cabin\", \"Embarked\"]\n",
        "print(\"Number of unique values by feature:\")\n",
        "for feature in categorical_features:\n",
        "    print(f\"{feature}: {len(train[feature].unique())}\")"
      ],
      "id": "069f497a",
      "execution_count": null,
      "outputs": [
        {
          "name": "stdout",
          "output_type": "stream",
          "text": [
            "Number of unique values by feature:\n",
            "PassengerId: 891\n",
            "Pclass: 3\n",
            "Name: 891\n",
            "Sex: 2\n",
            "Ticket: 681\n",
            "Cabin: 148\n",
            "Embarked: 4\n"
          ]
        }
      ]
    },
    {
      "cell_type": "code",
      "metadata": {
        "execution": {
          "iopub.execute_input": "2021-09-05T14:20:12.809230Z",
          "iopub.status.busy": "2021-09-05T14:20:12.808680Z",
          "iopub.status.idle": "2021-09-05T14:20:13.126499Z",
          "shell.execute_reply": "2021-09-05T14:20:13.125548Z",
          "shell.execute_reply.started": "2021-09-05T14:07:54.953074Z"
        },
        "papermill": {
          "duration": 0.338838,
          "end_time": "2021-09-05T14:20:13.126641",
          "exception": false,
          "start_time": "2021-09-05T14:20:12.787803",
          "status": "completed"
        },
        "tags": [],
        "id": "08182fc2"
      },
      "source": [
        "from sklearn.compose import ColumnTransformer\n",
        "from sklearn.pipeline import Pipeline\n",
        "from sklearn.impute import SimpleImputer\n",
        "from sklearn.preprocessing import OneHotEncoder"
      ],
      "id": "08182fc2",
      "execution_count": null,
      "outputs": []
    },
    {
      "cell_type": "code",
      "metadata": {
        "execution": {
          "iopub.execute_input": "2021-09-05T14:20:13.174777Z",
          "iopub.status.busy": "2021-09-05T14:20:13.173895Z",
          "iopub.status.idle": "2021-09-05T14:20:13.197993Z",
          "shell.execute_reply": "2021-09-05T14:20:13.197598Z",
          "shell.execute_reply.started": "2021-09-05T14:07:56.931053Z"
        },
        "papermill": {
          "duration": 0.053046,
          "end_time": "2021-09-05T14:20:13.198104",
          "exception": false,
          "start_time": "2021-09-05T14:20:13.145058",
          "status": "completed"
        },
        "tags": [],
        "id": "edc00399"
      },
      "source": [
        "numeric_features = [\"Age\", \"SibSp\", \"Parch\", \"Fare\"]\n",
        "numeric_transformer = Pipeline(steps=[\n",
        "    ('imputer', SimpleImputer(strategy='mean'))\n",
        "])\n",
        "\n",
        "categorical_features = [\"Pclass\", \"Sex\", \"Cabin\", \"Embarked\"]\n",
        "categorical_transformer = Pipeline(steps=[\n",
        "    (\"imputer\", SimpleImputer(strategy='most_frequent')),\n",
        "    (\"ohe\", OneHotEncoder(handle_unknown='ignore'))\n",
        "])\n",
        "preprocessor = ColumnTransformer(transformers=[\n",
        "    ('num', numeric_transformer, numeric_features),\n",
        "    ('cat', categorical_transformer, categorical_features)\n",
        "])\n",
        "X_train = preprocessor.fit_transform(train.drop(columns=[\"Survived\"]))\n",
        "X_test = preprocessor.transform(test)\n",
        "Y_train = train[\"Survived\"].values"
      ],
      "id": "edc00399",
      "execution_count": null,
      "outputs": []
    },
    {
      "cell_type": "code",
      "metadata": {
        "execution": {
          "iopub.execute_input": "2021-09-05T14:20:13.237923Z",
          "iopub.status.busy": "2021-09-05T14:20:13.237235Z",
          "iopub.status.idle": "2021-09-05T14:20:13.240381Z",
          "shell.execute_reply": "2021-09-05T14:20:13.241037Z",
          "shell.execute_reply.started": "2021-09-05T13:51:33.237830Z"
        },
        "papermill": {
          "duration": 0.025295,
          "end_time": "2021-09-05T14:20:13.241208",
          "exception": false,
          "start_time": "2021-09-05T14:20:13.215913",
          "status": "completed"
        },
        "tags": [],
        "id": "fdbf56b3",
        "outputId": "7c47feff-c3e8-48c8-c44e-d280829cd15e"
      },
      "source": [
        "print(X_train.shape)\n",
        "print(X_test.shape)"
      ],
      "id": "fdbf56b3",
      "execution_count": null,
      "outputs": [
        {
          "name": "stdout",
          "output_type": "stream",
          "text": [
            "(891, 159)\n",
            "(418, 159)\n"
          ]
        }
      ]
    },
    {
      "cell_type": "markdown",
      "metadata": {
        "papermill": {
          "duration": 0.017635,
          "end_time": "2021-09-05T14:20:13.278487",
          "exception": false,
          "start_time": "2021-09-05T14:20:13.260852",
          "status": "completed"
        },
        "tags": [],
        "id": "5c4e1236"
      },
      "source": [
        "# Logistic regression"
      ],
      "id": "5c4e1236"
    },
    {
      "cell_type": "code",
      "metadata": {
        "execution": {
          "iopub.execute_input": "2021-09-05T14:20:13.318527Z",
          "iopub.status.busy": "2021-09-05T14:20:13.317795Z",
          "iopub.status.idle": "2021-09-05T14:20:13.320071Z",
          "shell.execute_reply": "2021-09-05T14:20:13.320529Z",
          "shell.execute_reply.started": "2021-09-05T13:51:39.155590Z"
        },
        "papermill": {
          "duration": 0.023828,
          "end_time": "2021-09-05T14:20:13.320652",
          "exception": false,
          "start_time": "2021-09-05T14:20:13.296824",
          "status": "completed"
        },
        "tags": [],
        "id": "7062a81c"
      },
      "source": [
        "from sklearn.linear_model import LogisticRegression\n",
        "from sklearn.model_selection import GridSearchCV"
      ],
      "id": "7062a81c",
      "execution_count": null,
      "outputs": []
    },
    {
      "cell_type": "code",
      "metadata": {
        "execution": {
          "iopub.execute_input": "2021-09-05T14:20:13.362527Z",
          "iopub.status.busy": "2021-09-05T14:20:13.361877Z",
          "iopub.status.idle": "2021-09-05T14:20:15.244081Z",
          "shell.execute_reply": "2021-09-05T14:20:15.243452Z",
          "shell.execute_reply.started": "2021-09-05T13:51:40.974826Z"
        },
        "papermill": {
          "duration": 1.90565,
          "end_time": "2021-09-05T14:20:15.244255",
          "exception": false,
          "start_time": "2021-09-05T14:20:13.338605",
          "status": "completed"
        },
        "tags": [],
        "id": "45ed6aef",
        "outputId": "a2a2277c-1d3d-417d-ae38-758fabeb881f"
      },
      "source": [
        "estimator = LogisticRegression(fit_intercept=False, solver=\"liblinear\")\n",
        "param_grid = {\"C\": [10, 15, 20, 25, 30]}\n",
        "logit_clf = GridSearchCV(estimator, param_grid, n_jobs=-1, refit=True, cv=5)\n",
        "logit_clf.fit(X_train, Y_train)\n",
        "print(f\"Best param: {logit_clf.best_params_}\")\n",
        "print(f\"Best score: {logit_clf.best_score_}\")\n",
        "print(f\"Score in training: {logit_clf.score(X_train, Y_train)}\")"
      ],
      "id": "45ed6aef",
      "execution_count": null,
      "outputs": [
        {
          "name": "stdout",
          "output_type": "stream",
          "text": [
            "Best param: {'C': 25}\n",
            "Best score: 0.8047078023978406\n",
            "Score in training: 0.8552188552188552\n"
          ]
        }
      ]
    },
    {
      "cell_type": "code",
      "metadata": {
        "execution": {
          "iopub.execute_input": "2021-09-05T14:20:15.288673Z",
          "iopub.status.busy": "2021-09-05T14:20:15.287934Z",
          "iopub.status.idle": "2021-09-05T14:20:15.295655Z",
          "shell.execute_reply": "2021-09-05T14:20:15.295165Z",
          "shell.execute_reply.started": "2021-09-05T10:41:20.634748Z"
        },
        "papermill": {
          "duration": 0.032051,
          "end_time": "2021-09-05T14:20:15.295755",
          "exception": false,
          "start_time": "2021-09-05T14:20:15.263704",
          "status": "completed"
        },
        "tags": [],
        "id": "8b632033"
      },
      "source": [
        "submission = pd.DataFrame()\n",
        "submission[\"PassengerId\"] = test[\"PassengerId\"]\n",
        "submission[\"Survived\"] = logit_clf.predict(X_test)\n",
        "submission.to_csv(\"titanic_logit_submission.csv\", index=False)"
      ],
      "id": "8b632033",
      "execution_count": null,
      "outputs": []
    },
    {
      "cell_type": "markdown",
      "metadata": {
        "papermill": {
          "duration": 0.017959,
          "end_time": "2021-09-05T14:20:15.331901",
          "exception": false,
          "start_time": "2021-09-05T14:20:15.313942",
          "status": "completed"
        },
        "tags": [],
        "id": "156cc6f9"
      },
      "source": [
        "# XGBoost"
      ],
      "id": "156cc6f9"
    },
    {
      "cell_type": "code",
      "metadata": {
        "execution": {
          "iopub.execute_input": "2021-09-05T14:20:15.371649Z",
          "iopub.status.busy": "2021-09-05T14:20:15.371118Z",
          "iopub.status.idle": "2021-09-05T14:20:15.460129Z",
          "shell.execute_reply": "2021-09-05T14:20:15.459699Z",
          "shell.execute_reply.started": "2021-09-05T14:08:08.273289Z"
        },
        "papermill": {
          "duration": 0.109995,
          "end_time": "2021-09-05T14:20:15.460279",
          "exception": false,
          "start_time": "2021-09-05T14:20:15.350284",
          "status": "completed"
        },
        "tags": [],
        "id": "2ab9994a"
      },
      "source": [
        "from sklearn.model_selection import GridSearchCV\n",
        "import xgboost as xgb"
      ],
      "id": "2ab9994a",
      "execution_count": null,
      "outputs": []
    },
    {
      "cell_type": "code",
      "metadata": {
        "execution": {
          "iopub.execute_input": "2021-09-05T14:20:15.503678Z",
          "iopub.status.busy": "2021-09-05T14:20:15.502867Z",
          "iopub.status.idle": "2021-09-05T14:24:44.488122Z",
          "shell.execute_reply": "2021-09-05T14:24:44.488556Z",
          "shell.execute_reply.started": "2021-09-05T14:13:03.434986Z"
        },
        "papermill": {
          "duration": 269.009959,
          "end_time": "2021-09-05T14:24:44.488710",
          "exception": false,
          "start_time": "2021-09-05T14:20:15.478751",
          "status": "completed"
        },
        "tags": [],
        "id": "3a6cd442",
        "outputId": "1caeff90-a95e-49a9-faa8-de17c2e5d39a"
      },
      "source": [
        "estimator = xgb.XGBClassifier(tree_method=\"gpu_hist\", n_jobs=-1)\n",
        "param_grid = {\n",
        "    \"n_estimators\": [50, 100, 150], \"max_depth\": [5, 7, 9],\n",
        "    \"learning_rate\": [0.01, 0.1, 0.3, 0.5], \"reg_lambda\": [1, 3, 5]\n",
        "}\n",
        "gridsearch = GridSearchCV(estimator, param_grid, n_jobs=-1, refit=False, cv=5)\n",
        "gridsearch.fit(X_train, Y_train)\n",
        "print(f\"Best param: {gridsearch.best_params_}\")\n",
        "print(f\"Best score: {gridsearch.best_score_}\")"
      ],
      "id": "3a6cd442",
      "execution_count": null,
      "outputs": [
        {
          "name": "stderr",
          "output_type": "stream",
          "text": [
            "/opt/conda/lib/python3.7/site-packages/joblib/externals/loky/process_executor.py:691: UserWarning: A worker stopped while some jobs were given to the executor. This can be caused by a too short worker timeout or by a memory leak.\n",
            "  \"timeout or by a memory leak.\", UserWarning\n"
          ]
        },
        {
          "name": "stdout",
          "output_type": "stream",
          "text": [
            "Best param: {'learning_rate': 0.1, 'max_depth': 9, 'n_estimators': 50, 'reg_lambda': 1}\n",
            "Best score: 0.8372795179210344\n"
          ]
        }
      ]
    },
    {
      "cell_type": "code",
      "metadata": {
        "execution": {
          "iopub.execute_input": "2021-09-05T14:24:44.532168Z",
          "iopub.status.busy": "2021-09-05T14:24:44.531364Z",
          "iopub.status.idle": "2021-09-05T14:24:46.280789Z",
          "shell.execute_reply": "2021-09-05T14:24:46.281494Z",
          "shell.execute_reply.started": "2021-09-05T14:19:01.020425Z"
        },
        "papermill": {
          "duration": 1.774056,
          "end_time": "2021-09-05T14:24:46.281651",
          "exception": false,
          "start_time": "2021-09-05T14:24:44.507595",
          "status": "completed"
        },
        "tags": [],
        "id": "5844538c",
        "outputId": "c775057b-4a2b-4fe6-ded3-e44de902498b"
      },
      "source": [
        "xgb_clf = xgb.XGBClassifier(n_estimators=50, max_depth=9, learning_rate=0.1, reg_lambda=1, tree_method=\"gpu_hist\", n_jobs=-1)\n",
        "xgb_clf.fit(X_train, Y_train)\n",
        "print(f\"Score in training: {xgb_clf.score(X_train, Y_train)}\")"
      ],
      "id": "5844538c",
      "execution_count": null,
      "outputs": [
        {
          "name": "stderr",
          "output_type": "stream",
          "text": [
            "/opt/conda/lib/python3.7/site-packages/xgboost/sklearn.py:1146: UserWarning: The use of label encoder in XGBClassifier is deprecated and will be removed in a future release. To remove this warning, do the following: 1) Pass option use_label_encoder=False when constructing XGBClassifier object; and 2) Encode your labels (y) as integers starting with 0, i.e. 0, 1, 2, ..., [num_class - 1].\n",
            "  warnings.warn(label_encoder_deprecation_msg, UserWarning)\n"
          ]
        },
        {
          "name": "stdout",
          "output_type": "stream",
          "text": [
            "[14:24:45] WARNING: ../src/learner.cc:1095: Starting in XGBoost 1.3.0, the default evaluation metric used with the objective 'binary:logistic' was changed from 'error' to 'logloss'. Explicitly set eval_metric if you'd like to restore the old behavior.\n",
            "Score in training: 0.920314253647587\n"
          ]
        }
      ]
    },
    {
      "cell_type": "code",
      "metadata": {
        "execution": {
          "iopub.execute_input": "2021-09-05T14:24:46.340730Z",
          "iopub.status.busy": "2021-09-05T14:24:46.336151Z",
          "iopub.status.idle": "2021-09-05T14:24:46.343569Z",
          "shell.execute_reply": "2021-09-05T14:24:46.344590Z",
          "shell.execute_reply.started": "2021-09-05T14:19:32.042226Z"
        },
        "papermill": {
          "duration": 0.034272,
          "end_time": "2021-09-05T14:24:46.344743",
          "exception": false,
          "start_time": "2021-09-05T14:24:46.310471",
          "status": "completed"
        },
        "tags": [],
        "id": "ee441cdd"
      },
      "source": [
        "submission = pd.DataFrame()\n",
        "submission[\"PassengerId\"] = test[\"PassengerId\"]\n",
        "submission[\"Survived\"] = xgb_clf.predict(X_test)\n",
        "submission.to_csv(\"titanic_xgb_submission.csv\", index=False)"
      ],
      "id": "ee441cdd",
      "execution_count": null,
      "outputs": []
    }
  ]
}